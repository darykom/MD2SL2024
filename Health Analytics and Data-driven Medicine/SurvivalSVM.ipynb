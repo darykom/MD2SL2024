{
 "cells": [
  {
   "cell_type": "markdown",
   "id": "0a3ba809-fc09-4cb3-b8b5-31e802af8111",
   "metadata": {},
   "source": [
    "# **Elaborato per il corso di Health Analytics and Data-Driven Medicine, MD2SL 2024**\n",
    "## *Dario Comanducci*\n",
    "\n",
    "## **Survival Analysis**"
   ]
  },
  {
   "cell_type": "code",
   "execution_count": 2,
   "id": "97862801-0053-4e6d-aa93-17d41fe24834",
   "metadata": {},
   "outputs": [],
   "source": [
    "# librerie di base\n",
    "import pandas as pd\n",
    "import numpy as np\n",
    "import matplotlib.pyplot as plt\n",
    "import seaborn as sns\n",
    "import warnings\n",
    "warnings.filterwarnings('ignore', category=UserWarning)\n",
    "\n",
    "np.random.seed(3131)"
   ]
  },
  {
   "cell_type": "code",
   "execution_count": 3,
   "id": "43b4d590-5c83-44d0-981d-baf35440006c",
   "metadata": {},
   "outputs": [
    {
     "data": {
      "text/html": [
       "<div>\n",
       "<style scoped>\n",
       "    .dataframe tbody tr th:only-of-type {\n",
       "        vertical-align: middle;\n",
       "    }\n",
       "\n",
       "    .dataframe tbody tr th {\n",
       "        vertical-align: top;\n",
       "    }\n",
       "\n",
       "    .dataframe thead th {\n",
       "        text-align: right;\n",
       "    }\n",
       "</style>\n",
       "<table border=\"1\" class=\"dataframe\">\n",
       "  <thead>\n",
       "    <tr style=\"text-align: right;\">\n",
       "      <th></th>\n",
       "      <th>Age_in_years</th>\n",
       "      <th>Celltype</th>\n",
       "      <th>Karnofsky_score</th>\n",
       "      <th>Months_from_Diagnosis</th>\n",
       "      <th>Prior_therapy</th>\n",
       "      <th>Treatment</th>\n",
       "    </tr>\n",
       "  </thead>\n",
       "  <tbody>\n",
       "    <tr>\n",
       "      <th>0</th>\n",
       "      <td>69.0</td>\n",
       "      <td>squamous</td>\n",
       "      <td>60.0</td>\n",
       "      <td>7.0</td>\n",
       "      <td>no</td>\n",
       "      <td>standard</td>\n",
       "    </tr>\n",
       "    <tr>\n",
       "      <th>1</th>\n",
       "      <td>64.0</td>\n",
       "      <td>squamous</td>\n",
       "      <td>70.0</td>\n",
       "      <td>5.0</td>\n",
       "      <td>yes</td>\n",
       "      <td>standard</td>\n",
       "    </tr>\n",
       "    <tr>\n",
       "      <th>2</th>\n",
       "      <td>38.0</td>\n",
       "      <td>squamous</td>\n",
       "      <td>60.0</td>\n",
       "      <td>3.0</td>\n",
       "      <td>no</td>\n",
       "      <td>standard</td>\n",
       "    </tr>\n",
       "    <tr>\n",
       "      <th>3</th>\n",
       "      <td>63.0</td>\n",
       "      <td>squamous</td>\n",
       "      <td>60.0</td>\n",
       "      <td>9.0</td>\n",
       "      <td>yes</td>\n",
       "      <td>standard</td>\n",
       "    </tr>\n",
       "    <tr>\n",
       "      <th>4</th>\n",
       "      <td>65.0</td>\n",
       "      <td>squamous</td>\n",
       "      <td>70.0</td>\n",
       "      <td>11.0</td>\n",
       "      <td>yes</td>\n",
       "      <td>standard</td>\n",
       "    </tr>\n",
       "  </tbody>\n",
       "</table>\n",
       "</div>"
      ],
      "text/plain": [
       "   Age_in_years  Celltype  Karnofsky_score  Months_from_Diagnosis  \\\n",
       "0          69.0  squamous             60.0                    7.0   \n",
       "1          64.0  squamous             70.0                    5.0   \n",
       "2          38.0  squamous             60.0                    3.0   \n",
       "3          63.0  squamous             60.0                    9.0   \n",
       "4          65.0  squamous             70.0                   11.0   \n",
       "\n",
       "  Prior_therapy Treatment  \n",
       "0            no  standard  \n",
       "1           yes  standard  \n",
       "2            no  standard  \n",
       "3           yes  standard  \n",
       "4           yes  standard  "
      ]
     },
     "execution_count": 3,
     "metadata": {},
     "output_type": "execute_result"
    }
   ],
   "source": [
    "# Dataset (Veteran's Administration Lung Cancer Trial)\n",
    "from sksurv.datasets import load_veterans_lung_cancer\n",
    "\n",
    "data_x, ys = load_veterans_lung_cancer() \n",
    "data_x.head()"
   ]
  },
  {
   "cell_type": "markdown",
   "id": "861da462-f897-4b56-b7e0-2efa3fa94a04",
   "metadata": {},
   "source": [
    "**X**\n",
    "- Age in years\n",
    "- Celltype: squamous, smallcell, adeno, large\n",
    "- Karnofsky score\n",
    "- Months from Diagnosis\n",
    "- Prior therapy: no/yes\n",
    "- Treatment: standard, test"
   ]
  },
  {
   "cell_type": "code",
   "execution_count": 4,
   "id": "bc79da2e-e41c-47ac-a687-530f1806ef67",
   "metadata": {},
   "outputs": [
    {
     "data": {
      "text/html": [
       "<div>\n",
       "<style scoped>\n",
       "    .dataframe tbody tr th:only-of-type {\n",
       "        vertical-align: middle;\n",
       "    }\n",
       "\n",
       "    .dataframe tbody tr th {\n",
       "        vertical-align: top;\n",
       "    }\n",
       "\n",
       "    .dataframe thead th {\n",
       "        text-align: right;\n",
       "    }\n",
       "</style>\n",
       "<table border=\"1\" class=\"dataframe\">\n",
       "  <thead>\n",
       "    <tr style=\"text-align: right;\">\n",
       "      <th></th>\n",
       "      <th>Age_in_years</th>\n",
       "      <th>Celltype=large</th>\n",
       "      <th>Celltype=smallcell</th>\n",
       "      <th>Celltype=squamous</th>\n",
       "      <th>Karnofsky_score</th>\n",
       "      <th>Months_from_Diagnosis</th>\n",
       "      <th>Prior_therapy=yes</th>\n",
       "      <th>Treatment=test</th>\n",
       "    </tr>\n",
       "  </thead>\n",
       "  <tbody>\n",
       "    <tr>\n",
       "      <th>0</th>\n",
       "      <td>69.0</td>\n",
       "      <td>0.0</td>\n",
       "      <td>0.0</td>\n",
       "      <td>1.0</td>\n",
       "      <td>60.0</td>\n",
       "      <td>7.0</td>\n",
       "      <td>0.0</td>\n",
       "      <td>0.0</td>\n",
       "    </tr>\n",
       "    <tr>\n",
       "      <th>1</th>\n",
       "      <td>64.0</td>\n",
       "      <td>0.0</td>\n",
       "      <td>0.0</td>\n",
       "      <td>1.0</td>\n",
       "      <td>70.0</td>\n",
       "      <td>5.0</td>\n",
       "      <td>1.0</td>\n",
       "      <td>0.0</td>\n",
       "    </tr>\n",
       "    <tr>\n",
       "      <th>2</th>\n",
       "      <td>38.0</td>\n",
       "      <td>0.0</td>\n",
       "      <td>0.0</td>\n",
       "      <td>1.0</td>\n",
       "      <td>60.0</td>\n",
       "      <td>3.0</td>\n",
       "      <td>0.0</td>\n",
       "      <td>0.0</td>\n",
       "    </tr>\n",
       "    <tr>\n",
       "      <th>3</th>\n",
       "      <td>63.0</td>\n",
       "      <td>0.0</td>\n",
       "      <td>0.0</td>\n",
       "      <td>1.0</td>\n",
       "      <td>60.0</td>\n",
       "      <td>9.0</td>\n",
       "      <td>1.0</td>\n",
       "      <td>0.0</td>\n",
       "    </tr>\n",
       "    <tr>\n",
       "      <th>4</th>\n",
       "      <td>65.0</td>\n",
       "      <td>0.0</td>\n",
       "      <td>0.0</td>\n",
       "      <td>1.0</td>\n",
       "      <td>70.0</td>\n",
       "      <td>11.0</td>\n",
       "      <td>1.0</td>\n",
       "      <td>0.0</td>\n",
       "    </tr>\n",
       "  </tbody>\n",
       "</table>\n",
       "</div>"
      ],
      "text/plain": [
       "   Age_in_years  Celltype=large  Celltype=smallcell  Celltype=squamous  \\\n",
       "0          69.0             0.0                 0.0                1.0   \n",
       "1          64.0             0.0                 0.0                1.0   \n",
       "2          38.0             0.0                 0.0                1.0   \n",
       "3          63.0             0.0                 0.0                1.0   \n",
       "4          65.0             0.0                 0.0                1.0   \n",
       "\n",
       "   Karnofsky_score  Months_from_Diagnosis  Prior_therapy=yes  Treatment=test  \n",
       "0             60.0                    7.0                0.0             0.0  \n",
       "1             70.0                    5.0                1.0             0.0  \n",
       "2             60.0                    3.0                0.0             0.0  \n",
       "3             60.0                    9.0                1.0             0.0  \n",
       "4             70.0                   11.0                1.0             0.0  "
      ]
     },
     "execution_count": 4,
     "metadata": {},
     "output_type": "execute_result"
    }
   ],
   "source": [
    "from sksurv.column import encode_categorical\n",
    "\n",
    "x = encode_categorical(data_x) #one-hot encoding\n",
    "x.head()"
   ]
  },
  {
   "cell_type": "code",
   "execution_count": 5,
   "id": "70ae0711-8776-4a76-b5bb-2db4750926cd",
   "metadata": {},
   "outputs": [
    {
     "data": {
      "text/plain": [
       "array([( True,  72.), ( True, 411.), ( True, 228.), ( True, 126.),\n",
       "       ( True, 118.)],\n",
       "      dtype=[('Status', '?'), ('Survival_in_days', '<f8')])"
      ]
     },
     "execution_count": 5,
     "metadata": {},
     "output_type": "execute_result"
    }
   ],
   "source": [
    "ys[0:5]"
   ]
  },
  {
   "cell_type": "markdown",
   "id": "8376d1e0-f38e-4346-a6f4-4aca51a35eb1",
   "metadata": {},
   "source": [
    "Status = 1 $\\equiv$ dead;\n",
    "Status = 0 $\\equiv$ censored"
   ]
  },
  {
   "cell_type": "code",
   "execution_count": 6,
   "id": "07878ccb-9121-431a-a4ef-d3684bc3eb47",
   "metadata": {},
   "outputs": [
    {
     "data": {
      "text/html": [
       "<div>\n",
       "<style scoped>\n",
       "    .dataframe tbody tr th:only-of-type {\n",
       "        vertical-align: middle;\n",
       "    }\n",
       "\n",
       "    .dataframe tbody tr th {\n",
       "        vertical-align: top;\n",
       "    }\n",
       "\n",
       "    .dataframe thead th {\n",
       "        text-align: right;\n",
       "    }\n",
       "</style>\n",
       "<table border=\"1\" class=\"dataframe\">\n",
       "  <thead>\n",
       "    <tr style=\"text-align: right;\">\n",
       "      <th></th>\n",
       "      <th>Age_in_years</th>\n",
       "      <th>Celltype=large</th>\n",
       "      <th>Celltype=smallcell</th>\n",
       "      <th>Celltype=squamous</th>\n",
       "      <th>Karnofsky_score</th>\n",
       "      <th>Months_from_Diagnosis</th>\n",
       "      <th>Prior_therapy=yes</th>\n",
       "      <th>Treatment=test</th>\n",
       "      <th>y</th>\n",
       "      <th>delta</th>\n",
       "    </tr>\n",
       "  </thead>\n",
       "  <tbody>\n",
       "    <tr>\n",
       "      <th>0</th>\n",
       "      <td>69.0</td>\n",
       "      <td>0.0</td>\n",
       "      <td>0.0</td>\n",
       "      <td>1.0</td>\n",
       "      <td>60.0</td>\n",
       "      <td>7.0</td>\n",
       "      <td>0.0</td>\n",
       "      <td>0.0</td>\n",
       "      <td>72.0</td>\n",
       "      <td>True</td>\n",
       "    </tr>\n",
       "    <tr>\n",
       "      <th>1</th>\n",
       "      <td>64.0</td>\n",
       "      <td>0.0</td>\n",
       "      <td>0.0</td>\n",
       "      <td>1.0</td>\n",
       "      <td>70.0</td>\n",
       "      <td>5.0</td>\n",
       "      <td>1.0</td>\n",
       "      <td>0.0</td>\n",
       "      <td>411.0</td>\n",
       "      <td>True</td>\n",
       "    </tr>\n",
       "    <tr>\n",
       "      <th>2</th>\n",
       "      <td>38.0</td>\n",
       "      <td>0.0</td>\n",
       "      <td>0.0</td>\n",
       "      <td>1.0</td>\n",
       "      <td>60.0</td>\n",
       "      <td>3.0</td>\n",
       "      <td>0.0</td>\n",
       "      <td>0.0</td>\n",
       "      <td>228.0</td>\n",
       "      <td>True</td>\n",
       "    </tr>\n",
       "    <tr>\n",
       "      <th>3</th>\n",
       "      <td>63.0</td>\n",
       "      <td>0.0</td>\n",
       "      <td>0.0</td>\n",
       "      <td>1.0</td>\n",
       "      <td>60.0</td>\n",
       "      <td>9.0</td>\n",
       "      <td>1.0</td>\n",
       "      <td>0.0</td>\n",
       "      <td>126.0</td>\n",
       "      <td>True</td>\n",
       "    </tr>\n",
       "    <tr>\n",
       "      <th>4</th>\n",
       "      <td>65.0</td>\n",
       "      <td>0.0</td>\n",
       "      <td>0.0</td>\n",
       "      <td>1.0</td>\n",
       "      <td>70.0</td>\n",
       "      <td>11.0</td>\n",
       "      <td>1.0</td>\n",
       "      <td>0.0</td>\n",
       "      <td>118.0</td>\n",
       "      <td>True</td>\n",
       "    </tr>\n",
       "  </tbody>\n",
       "</table>\n",
       "</div>"
      ],
      "text/plain": [
       "   Age_in_years  Celltype=large  Celltype=smallcell  Celltype=squamous  \\\n",
       "0          69.0             0.0                 0.0                1.0   \n",
       "1          64.0             0.0                 0.0                1.0   \n",
       "2          38.0             0.0                 0.0                1.0   \n",
       "3          63.0             0.0                 0.0                1.0   \n",
       "4          65.0             0.0                 0.0                1.0   \n",
       "\n",
       "   Karnofsky_score  Months_from_Diagnosis  Prior_therapy=yes  Treatment=test  \\\n",
       "0             60.0                    7.0                0.0             0.0   \n",
       "1             70.0                    5.0                1.0             0.0   \n",
       "2             60.0                    3.0                0.0             0.0   \n",
       "3             60.0                    9.0                1.0             0.0   \n",
       "4             70.0                   11.0                1.0             0.0   \n",
       "\n",
       "       y  delta  \n",
       "0   72.0   True  \n",
       "1  411.0   True  \n",
       "2  228.0   True  \n",
       "3  126.0   True  \n",
       "4  118.0   True  "
      ]
     },
     "execution_count": 6,
     "metadata": {},
     "output_type": "execute_result"
    }
   ],
   "source": [
    "df = x.assign(y=ys['Survival_in_days'], delta=ys['Status'])\n",
    "df.head()"
   ]
  },
  {
   "cell_type": "code",
   "execution_count": 7,
   "id": "333a7eba-50cd-46b1-b066-30d52fb75f3b",
   "metadata": {},
   "outputs": [
    {
     "name": "stdout",
     "output_type": "stream",
     "text": [
      "Dataset size: (137, 10)\n",
      "Censored: 9\n",
      "Treated: 68\n",
      "Not Treated: 69\n",
      "Censored & Treated: 4\n",
      "Censored & Not Treated: 5\n"
     ]
    }
   ],
   "source": [
    "def inspect_treated_censored_data(df):\n",
    "    id_censored = df[df['delta']==False].index \n",
    "    id_treated = df[df['Treatment=test']==1].index\n",
    "    id_not_treated = df[df['Treatment=test']==0].index\n",
    "    id_censored_treated = id_censored.intersection(id_treated)\n",
    "    id_censored_not_treated = id_censored.intersection(id_not_treated)\n",
    "    print('Dataset size: ' + str(df.shape))\n",
    "    print('Censored: ' + str(len(id_censored)))\n",
    "    print('Treated: ' + str(len(id_treated)))\n",
    "    print('Not Treated: ' + str(len(id_not_treated)))\n",
    "    print('Censored & Treated: ' + str(len(id_censored_treated)))\n",
    "    print('Censored & Not Treated: ' + str(len(id_censored_not_treated)))\n",
    "    \n",
    "inspect_treated_censored_data(df)"
   ]
  },
  {
   "cell_type": "markdown",
   "id": "2eadc768-206a-42f7-8def-c0400b77ea0f",
   "metadata": {},
   "source": [
    "**Training set & test set**"
   ]
  },
  {
   "cell_type": "code",
   "execution_count": 8,
   "id": "fe807399-26d9-41f7-96fa-17f3e727197d",
   "metadata": {},
   "outputs": [
    {
     "name": "stdout",
     "output_type": "stream",
     "text": [
      "Training set:\n",
      "Dataset size: (91, 10)\n",
      "Censored: 5\n",
      "Treated: 46\n",
      "Not Treated: 45\n",
      "Censored & Treated: 1\n",
      "Censored & Not Treated: 4\n",
      "\n",
      "Test set:\n",
      "Dataset size: (46, 10)\n",
      "Censored: 4\n",
      "Treated: 22\n",
      "Not Treated: 24\n",
      "Censored & Treated: 3\n",
      "Censored & Not Treated: 1\n"
     ]
    }
   ],
   "source": [
    "from sklearn.model_selection import train_test_split\n",
    "\n",
    "df_train, df_test = train_test_split(df, test_size=0.33, random_state=1242)\n",
    "\n",
    "print('Training set:')\n",
    "inspect_treated_censored_data(df_train)\n",
    "print('\\nTest set:')\n",
    "inspect_treated_censored_data(df_test)"
   ]
  },
  {
   "cell_type": "markdown",
   "id": "da51bb95-644a-480c-89f2-ef9cbce18ef2",
   "metadata": {},
   "source": [
    "# Cox model"
   ]
  },
  {
   "cell_type": "code",
   "execution_count": 8,
   "id": "b2d41a7d-1c17-47f0-baad-ca5c3999e60b",
   "metadata": {},
   "outputs": [
    {
     "name": "stdout",
     "output_type": "stream",
     "text": [
      "Cox C-index (train): 0.7345741968383478\n",
      "Cox C-index (test): 0.7251828631138976\n"
     ]
    }
   ],
   "source": [
    "from sksurv.linear_model import CoxPHSurvivalAnalysis\n",
    "from sksurv.metrics import concordance_index_censored\n",
    "\n",
    "def score_survival_model(model, X, y):\n",
    "    prediction = model.predict(X)\n",
    "    result = concordance_index_censored(y['Status'], y['Survival_in_days'], prediction)\n",
    "    return result[0]\n",
    "\n",
    "#----------------------------------------------------------------------------------------------------------------------\n",
    "x_train = df_train.iloc[:,0:data_x.shape[1]]\n",
    "y_train = np.array(list(zip(df_train['delta'], df_train['y'])), dtype=[('Status', '?'), ('Survival_in_days', '<f8')])\n",
    "\n",
    "x_test = df_test.iloc[:,0:data_x.shape[1]]\n",
    "y_test = np.array(list(zip(df_test['delta'], df_test['y'])), dtype=[('Status', '?'), ('Survival_in_days', '<f8')])\n",
    "\n",
    "\n",
    "cph = CoxPHSurvivalAnalysis()\n",
    "cph.set_params(alpha=0) #Cox standard\n",
    "\n",
    "cph.fit(x_train, y_train)\n",
    "cox_train_cindex = score_survival_model(cph, x_train, y_train)\n",
    "cox_test_cindex = score_survival_model(cph, x_test, y_test)\n",
    "print('Cox C-index (train): ' + str(cox_train_cindex))\n",
    "print('Cox C-index (test): ' + str(cox_test_cindex))"
   ]
  },
  {
   "cell_type": "markdown",
   "id": "38e0ee04-c5c4-4f4c-90a6-1648a694709c",
   "metadata": {},
   "source": [
    "# Survival SVM (linear)"
   ]
  },
  {
   "cell_type": "code",
   "execution_count": 9,
   "id": "3d588824-116f-4099-a3c4-5390096905a2",
   "metadata": {},
   "outputs": [
    {
     "name": "stdout",
     "output_type": "stream",
     "text": [
      "Linear SVM C-index (train): 0.7394186639469659\n",
      "Linear C-index (test): 0.7377220480668757\n"
     ]
    }
   ],
   "source": [
    "from sklearn.model_selection import GridSearchCV, ShuffleSplit, LeaveOneOut\n",
    "from sksurv.svm import FastSurvivalSVM\n",
    "\n",
    "#estimator = FastSurvivalSVM(max_iter=1000, rank_ratio=0, random_state=0) # regression SVM\n",
    "estimator = FastSurvivalSVM(max_iter=1000, random_state=0) # ranking SVM\n",
    "param_grid = {'alpha': 2.0 ** np.arange(-12, 13, 0.5)}\n",
    "\n",
    "lsvm = GridSearchCV(estimator, param_grid, scoring=score_survival_model, n_jobs=-1, cv=3)\n",
    "lsvm.fit(x_train, y_train)\n",
    "\n",
    "lsvm_train_cindex = score_survival_model(lsvm, x_train, y_train)\n",
    "lsvm_test_cindex = score_survival_model(lsvm, x_test, y_test)\n",
    "print('Linear SVM C-index (train): ' + str(lsvm_train_cindex))\n",
    "print('Linear C-index (test): ' + str(lsvm_test_cindex))"
   ]
  },
  {
   "cell_type": "markdown",
   "id": "89055e23-2258-4e0d-8b10-f070187ac8fe",
   "metadata": {},
   "source": [
    "# Survival SVM (kernel)"
   ]
  },
  {
   "cell_type": "code",
   "execution_count": 10,
   "id": "ef017419-94e4-49b8-96a2-6d622b498791",
   "metadata": {},
   "outputs": [
    {
     "name": "stdout",
     "output_type": "stream",
     "text": [
      "Kernel SVM C-index (train): 0.719020907700153\n",
      "Kernel C-index (test): 0.7345872518286312\n"
     ]
    }
   ],
   "source": [
    "from sksurv.kernels import clinical_kernel\n",
    "from sksurv.svm import FastKernelSurvivalSVM\n",
    "\n",
    "#estimator = FastKernelSurvivalSVM(optimizer='rbtree', kernel='rbf', rank_ratio=0, random_state=0) # regression SVM\n",
    "estimator = FastKernelSurvivalSVM(optimizer='rbtree', kernel='rbf', random_state=0) # ranking SVM\n",
    "param_grid = {'alpha': 2.0 ** np.arange(-12, 13, 0.5), 'gamma':2.0 ** np.arange(-12, 13, 0.5)}\n",
    "ksvm = GridSearchCV(estimator, param_grid, scoring=score_survival_model, cv=3, n_jobs=-1)\n",
    "ksvm.fit(x_train, y_train)\n",
    "\n",
    "ksvm_train_cindex = score_survival_model(ksvm, x_train, y_train)\n",
    "ksvm_test_cindex = score_survival_model(ksvm, x_test, y_test)\n",
    "print('Kernel SVM C-index (train): ' + str(ksvm_train_cindex))\n",
    "print('Kernel C-index (test): ' + str(ksvm_test_cindex))"
   ]
  },
  {
   "cell_type": "code",
   "execution_count": null,
   "id": "893ee4b0-b51c-4daa-8948-739e0feb60ff",
   "metadata": {},
   "outputs": [],
   "source": []
  }
 ],
 "metadata": {
  "kernelspec": {
   "display_name": "Python 3 (ipykernel)",
   "language": "python",
   "name": "python3"
  },
  "language_info": {
   "codemirror_mode": {
    "name": "ipython",
    "version": 3
   },
   "file_extension": ".py",
   "mimetype": "text/x-python",
   "name": "python",
   "nbconvert_exporter": "python",
   "pygments_lexer": "ipython3",
   "version": "3.9.19"
  }
 },
 "nbformat": 4,
 "nbformat_minor": 5
}
